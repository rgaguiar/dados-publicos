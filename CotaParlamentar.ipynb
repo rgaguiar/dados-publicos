{
  "cells": [
    {
      "cell_type": "markdown",
      "metadata": {
        "id": "view-in-github",
        "colab_type": "text"
      },
      "source": [
        "<a href=\"https://colab.research.google.com/github/rgaguiar/dados-publicos/blob/master/CotaParlamentar.ipynb\" target=\"_parent\"><img src=\"https://colab.research.google.com/assets/colab-badge.svg\" alt=\"Open In Colab\"/></a>"
      ]
    },
    {
      "cell_type": "markdown",
      "id": "3fbe3722-b22a-4d7f-94b4-d6f87eee654f",
      "metadata": {
        "id": "3fbe3722-b22a-4d7f-94b4-d6f87eee654f"
      },
      "source": [
        "# Análise Descritiva: Despesas pela Cota de Exercício da Atividade Palamentar"
      ]
    },
    {
      "cell_type": "markdown",
      "id": "b41a3c3a-b0e7-4cf5-af74-3ef8c2048a4e",
      "metadata": {
        "id": "b41a3c3a-b0e7-4cf5-af74-3ef8c2048a4e"
      },
      "source": [
        ""
      ]
    },
    {
      "cell_type": "markdown",
      "id": "0d2fb81e-dc29-4efa-b11e-831959bf9901",
      "metadata": {
        "id": "0d2fb81e-dc29-4efa-b11e-831959bf9901"
      },
      "source": [
        "A Cota para o Exercício da Atividade Parlamentar é uma cota única mensal destinada a custear os gastos dos deputados exclusivamente vinculados ao exercício da atividade parlamentar. O valor máximo mensal da cota depende da unidade da federação que o deputado representa. Essa variação ocorre por causa das passagens aéreas e está relacionada ao valor do trecho entre Brasília e o Estado que o deputado representa. Este é o [link](https://www2.camara.leg.br/transparencia/acesso-a-informacao/copy_of_perguntas-frequentes/cota-para-o-exercicio-da-atividade-parlamentar) do site da Câmara dos Deputados."
      ]
    },
    {
      "cell_type": "markdown",
      "id": "cf4653c4-42ff-4850-957f-2ce285c5b087",
      "metadata": {
        "id": "cf4653c4-42ff-4850-957f-2ce285c5b087"
      },
      "source": [
        "# Obtenção dos dados"
      ]
    },
    {
      "cell_type": "markdown",
      "id": "faba5225-96fc-41b0-9e67-acb1f877b6f6",
      "metadata": {
        "id": "faba5225-96fc-41b0-9e67-acb1f877b6f6"
      },
      "source": [
        "> Esse dataset foi retirado do [site](https://dadosabertos.camara.leg.br/swagger/api.html#staticfile) dos dados abertos da **Câmara dos Deputados**. Os arquivos são separados por ano de ocorrência da despesa. O conjunto de dados possui informações consolidadas por descrição da despesa de todo período de 2021, como também por valor da despesa, valor restituído, dentre outras informações."
      ]
    },
    {
      "cell_type": "markdown",
      "id": "f33362a0-0045-4359-a6e6-a03036bc2812",
      "metadata": {
        "id": "f33362a0-0045-4359-a6e6-a03036bc2812"
      },
      "source": [
        "**Período de exercício dos dados: Ano de 2021**"
      ]
    },
    {
      "cell_type": "code",
      "execution_count": null,
      "id": "5f3cba49-48b6-4902-93bd-04a8cb37d5aa",
      "metadata": {
        "id": "5f3cba49-48b6-4902-93bd-04a8cb37d5aa"
      },
      "outputs": [],
      "source": [
        "#!pip install plotnine --user"
      ]
    },
    {
      "cell_type": "markdown",
      "id": "e77bc005-7d9f-408d-8a02-aa0441dd5db6",
      "metadata": {
        "id": "e77bc005-7d9f-408d-8a02-aa0441dd5db6"
      },
      "source": [
        "**Importar os dados**  \n",
        "> Nesta etapa inicial importaremos o dataset mencionado anteriormente e as bibliotecas que iremos utilizar."
      ]
    },
    {
      "cell_type": "code",
      "execution_count": null,
      "id": "817a735a-b883-44e3-836e-eaa10e947e8e",
      "metadata": {
        "id": "817a735a-b883-44e3-836e-eaa10e947e8e",
        "outputId": "c8107285-bd40-43ac-b10f-a6beb39c048f"
      },
      "outputs": [
        {
          "name": "stdout",
          "output_type": "stream",
          "text": [
            "Populating the interactive namespace from numpy and matplotlib\n"
          ]
        }
      ],
      "source": [
        "# importar bibliotecas necessárias\n",
        "import pandas as pd\n",
        "import matplotlib.pyplot as plt\n",
        "import seaborn as sns \n",
        "\n",
        "plt.style.use('ggplot')\n",
        "%matplotlib inline\n",
        "%pylab inline\n",
        "\n",
        "from datetime import datetime\n",
        "from plotnine import ggplot, aes, geom_line\n",
        "\n",
        "import warnings\n",
        "warnings.filterwarnings('ignore')\n",
        "pd.set_option(\"display.max_columns\", 200)\n",
        "pd.set_option(\"display.max_rows\", 200)\n",
        "\n",
        "pd.set_option('display.float_format', '{:.4f}'.format)\n",
        "\n",
        "# importando o dataset das despesas parlamentares\n",
        "df = pd.read_csv(\"Ano-2021.csv\", sep = ';', decimal=',')"
      ]
    },
    {
      "cell_type": "markdown",
      "id": "98859423-9bbe-48f9-ac4c-536098b5b979",
      "metadata": {
        "id": "98859423-9bbe-48f9-ac4c-536098b5b979"
      },
      "source": [
        "## Análise inicial dos dados"
      ]
    },
    {
      "cell_type": "markdown",
      "id": "101e6139-2371-439b-a138-3c8882731465",
      "metadata": {
        "id": "101e6139-2371-439b-a138-3c8882731465"
      },
      "source": [
        "Nessa etapa vamos visualizar a estrutura da nossa base de dados, tipo de informação e presença de valores ausentes."
      ]
    },
    {
      "cell_type": "code",
      "execution_count": null,
      "id": "a5eba8ef-9ced-425d-9814-81f8e59d81b9",
      "metadata": {
        "id": "a5eba8ef-9ced-425d-9814-81f8e59d81b9",
        "outputId": "e3929b89-f06e-4488-9c24-6d30f7f712c0"
      },
      "outputs": [
        {
          "name": "stdout",
          "output_type": "stream",
          "text": [
            "<class 'pandas.core.frame.DataFrame'>\n",
            "RangeIndex: 211335 entries, 0 to 211334\n",
            "Data columns (total 31 columns):\n",
            " #   Column                     Non-Null Count   Dtype  \n",
            "---  ------                     --------------   -----  \n",
            " 0   txNomeParlamentar          211335 non-null  object \n",
            " 1   cpf                        210477 non-null  float64\n",
            " 2   ideCadastro                210477 non-null  float64\n",
            " 3   nuCarteiraParlamentar      210477 non-null  float64\n",
            " 4   nuLegislatura              211335 non-null  int64  \n",
            " 5   sgUF                       210477 non-null  object \n",
            " 6   sgPartido                  210477 non-null  object \n",
            " 7   codLegislatura             211335 non-null  int64  \n",
            " 8   numSubCota                 211335 non-null  int64  \n",
            " 9   txtDescricao               211335 non-null  object \n",
            " 10  numEspecificacaoSubCota    211335 non-null  int64  \n",
            " 11  txtDescricaoEspecificacao  54725 non-null   object \n",
            " 12  txtFornecedor              211335 non-null  object \n",
            " 13  txtCNPJCPF                 174269 non-null  object \n",
            " 14  txtNumero                  211332 non-null  object \n",
            " 15  indTipoDocumento           211335 non-null  int64  \n",
            " 16  datEmissao                 205200 non-null  object \n",
            " 17  vlrDocumento               211335 non-null  object \n",
            " 18  vlrGlosa                   211335 non-null  object \n",
            " 19  vlrLiquido                 211335 non-null  object \n",
            " 20  numMes                     211335 non-null  int64  \n",
            " 21  numAno                     211335 non-null  int64  \n",
            " 22  numParcela                 211335 non-null  int64  \n",
            " 23  txtPassageiro              51426 non-null   object \n",
            " 24  txtTrecho                  51209 non-null   object \n",
            " 25  numLote                    211335 non-null  int64  \n",
            " 26  numRessarcimento           68117 non-null   float64\n",
            " 27  vlrRestituicao             46 non-null      object \n",
            " 28  nuDeputadoId               211335 non-null  int64  \n",
            " 29  ideDocumento               211335 non-null  int64  \n",
            " 30  urlDocumento               133286 non-null  object \n",
            "dtypes: float64(4), int64(11), object(16)\n",
            "memory usage: 50.0+ MB\n"
          ]
        }
      ],
      "source": [
        "df.info()"
      ]
    },
    {
      "cell_type": "markdown",
      "id": "7615e6d0-e597-4fe3-8b9d-fcc09e139ab0",
      "metadata": {
        "id": "7615e6d0-e597-4fe3-8b9d-fcc09e139ab0"
      },
      "source": [
        "Esse dataset que baixamos possui 211.335 entradas e 31 variáveis. Tendo em vista as informações acima, vamos remover algumas colunas pois não irão agregar valor na nossa análise.  \n",
        "\n",
        "Vamos continuar apenas com os seguintes atributos: \n",
        "* txNomeParlamentar  \n",
        "* sgUF  \n",
        "* sgPartido  \n",
        "* txtDescricao  \n",
        "* txtFornecedor  \n",
        "* datEmissao  \n",
        "* vlrDocumento  \n",
        "* vlrLiquido  \n",
        "* numMes  \n",
        "* numAno  \n",
        "* vlrRestituicao  \n",
        "\n",
        "<div class=\"alert alert-block alert-warning\">\n",
        "A qualidade de um dataset está diretamente relacionada à quantidade de valores ausentes, por isso, sempre devemos verificar a quantidade de valores ausentes presentes em nosso dataset.\n",
        "</div>"
      ]
    },
    {
      "cell_type": "markdown",
      "id": "239ceff8-0cbc-4af6-a3dc-04b7a5a6bc22",
      "metadata": {
        "id": "239ceff8-0cbc-4af6-a3dc-04b7a5a6bc22"
      },
      "source": [
        "Nessa etapa vamos fazer a seleção dos atributos que permaneceram na análise."
      ]
    },
    {
      "cell_type": "code",
      "execution_count": null,
      "id": "bf1a480a-066c-4f5b-a3aa-db1a04d332d7",
      "metadata": {
        "id": "bf1a480a-066c-4f5b-a3aa-db1a04d332d7"
      },
      "outputs": [],
      "source": [
        "# selecionando os atributos que irão permancer na nossa análise\n",
        "dfselect = df.loc[:,['txNomeParlamentar', 'sgUF', 'sgPartido', 'txtDescricao', 'txtFornecedor', 'datEmissao', 'vlrDocumento', 'vlrLiquido', 'numMes', 'numAno', 'vlrRestituicao']]"
      ]
    },
    {
      "cell_type": "code",
      "execution_count": null,
      "id": "ec0cd920-e388-45ff-9362-a5fe251877da",
      "metadata": {
        "id": "ec0cd920-e388-45ff-9362-a5fe251877da",
        "outputId": "b662cf50-54a9-454e-9127-1925fc030f54"
      },
      "outputs": [
        {
          "data": {
            "text/html": [
              "<div>\n",
              "<style scoped>\n",
              "    .dataframe tbody tr th:only-of-type {\n",
              "        vertical-align: middle;\n",
              "    }\n",
              "\n",
              "    .dataframe tbody tr th {\n",
              "        vertical-align: top;\n",
              "    }\n",
              "\n",
              "    .dataframe thead th {\n",
              "        text-align: right;\n",
              "    }\n",
              "</style>\n",
              "<table border=\"1\" class=\"dataframe\">\n",
              "  <thead>\n",
              "    <tr style=\"text-align: right;\">\n",
              "      <th></th>\n",
              "      <th>txNomeParlamentar</th>\n",
              "      <th>sgUF</th>\n",
              "      <th>sgPartido</th>\n",
              "      <th>txtDescricao</th>\n",
              "      <th>txtFornecedor</th>\n",
              "      <th>datEmissao</th>\n",
              "      <th>vlrDocumento</th>\n",
              "      <th>vlrLiquido</th>\n",
              "      <th>numMes</th>\n",
              "      <th>numAno</th>\n",
              "      <th>vlrRestituicao</th>\n",
              "    </tr>\n",
              "  </thead>\n",
              "  <tbody>\n",
              "    <tr>\n",
              "      <th>0</th>\n",
              "      <td>LIDERANÇA DO AVANTE</td>\n",
              "      <td>NaN</td>\n",
              "      <td>NaN</td>\n",
              "      <td>FORNECIMENTO DE ALIMENTAÇÃO DO PARLAMENTAR</td>\n",
              "      <td>BAR E RESTAURANTE TIA ZELIA LTDA ME</td>\n",
              "      <td>2021-10-27T00:00:00</td>\n",
              "      <td>526</td>\n",
              "      <td>526</td>\n",
              "      <td>10</td>\n",
              "      <td>2021</td>\n",
              "      <td>NaN</td>\n",
              "    </tr>\n",
              "    <tr>\n",
              "      <th>1</th>\n",
              "      <td>LIDERANÇA DO CIDADANIA</td>\n",
              "      <td>NaN</td>\n",
              "      <td>NaN</td>\n",
              "      <td>FORNECIMENTO DE ALIMENTAÇÃO DO PARLAMENTAR</td>\n",
              "      <td>ARTESANAL SERVICOS DE ALIMENTACAO E BUFFET EIRELI</td>\n",
              "      <td>2021-03-04T00:00:00</td>\n",
              "      <td>999.96</td>\n",
              "      <td>999.96</td>\n",
              "      <td>3</td>\n",
              "      <td>2021</td>\n",
              "      <td>NaN</td>\n",
              "    </tr>\n",
              "    <tr>\n",
              "      <th>2</th>\n",
              "      <td>LIDERANÇA DO CIDADANIA</td>\n",
              "      <td>NaN</td>\n",
              "      <td>NaN</td>\n",
              "      <td>FORNECIMENTO DE ALIMENTAÇÃO DO PARLAMENTAR</td>\n",
              "      <td>ARTESANAL SERVICOS DE ALIMENTACAO E BUFFET EIRELI</td>\n",
              "      <td>2021-03-11T00:00:00</td>\n",
              "      <td>999.96</td>\n",
              "      <td>999.96</td>\n",
              "      <td>3</td>\n",
              "      <td>2021</td>\n",
              "      <td>NaN</td>\n",
              "    </tr>\n",
              "    <tr>\n",
              "      <th>3</th>\n",
              "      <td>LIDERANÇA DO CIDADANIA</td>\n",
              "      <td>NaN</td>\n",
              "      <td>NaN</td>\n",
              "      <td>FORNECIMENTO DE ALIMENTAÇÃO DO PARLAMENTAR</td>\n",
              "      <td>ARTESANAL SERVICOS DE ALIMENTACAO E BUFFET EIRELI</td>\n",
              "      <td>2021-03-17T00:00:00</td>\n",
              "      <td>999.96</td>\n",
              "      <td>999.96</td>\n",
              "      <td>3</td>\n",
              "      <td>2021</td>\n",
              "      <td>NaN</td>\n",
              "    </tr>\n",
              "    <tr>\n",
              "      <th>4</th>\n",
              "      <td>LIDERANÇA DO CIDADANIA</td>\n",
              "      <td>NaN</td>\n",
              "      <td>NaN</td>\n",
              "      <td>FORNECIMENTO DE ALIMENTAÇÃO DO PARLAMENTAR</td>\n",
              "      <td>ARTESANAL SERVICOS DE ALIMENTACAO E BUFFET EIRELI</td>\n",
              "      <td>2021-04-12T00:00:00</td>\n",
              "      <td>999.96</td>\n",
              "      <td>999.96</td>\n",
              "      <td>4</td>\n",
              "      <td>2021</td>\n",
              "      <td>NaN</td>\n",
              "    </tr>\n",
              "  </tbody>\n",
              "</table>\n",
              "</div>"
            ],
            "text/plain": [
              "        txNomeParlamentar sgUF sgPartido  \\\n",
              "0     LIDERANÇA DO AVANTE  NaN       NaN   \n",
              "1  LIDERANÇA DO CIDADANIA  NaN       NaN   \n",
              "2  LIDERANÇA DO CIDADANIA  NaN       NaN   \n",
              "3  LIDERANÇA DO CIDADANIA  NaN       NaN   \n",
              "4  LIDERANÇA DO CIDADANIA  NaN       NaN   \n",
              "\n",
              "                                 txtDescricao  \\\n",
              "0  FORNECIMENTO DE ALIMENTAÇÃO DO PARLAMENTAR   \n",
              "1  FORNECIMENTO DE ALIMENTAÇÃO DO PARLAMENTAR   \n",
              "2  FORNECIMENTO DE ALIMENTAÇÃO DO PARLAMENTAR   \n",
              "3  FORNECIMENTO DE ALIMENTAÇÃO DO PARLAMENTAR   \n",
              "4  FORNECIMENTO DE ALIMENTAÇÃO DO PARLAMENTAR   \n",
              "\n",
              "                                       txtFornecedor           datEmissao  \\\n",
              "0                BAR E RESTAURANTE TIA ZELIA LTDA ME  2021-10-27T00:00:00   \n",
              "1  ARTESANAL SERVICOS DE ALIMENTACAO E BUFFET EIRELI  2021-03-04T00:00:00   \n",
              "2  ARTESANAL SERVICOS DE ALIMENTACAO E BUFFET EIRELI  2021-03-11T00:00:00   \n",
              "3  ARTESANAL SERVICOS DE ALIMENTACAO E BUFFET EIRELI  2021-03-17T00:00:00   \n",
              "4  ARTESANAL SERVICOS DE ALIMENTACAO E BUFFET EIRELI  2021-04-12T00:00:00   \n",
              "\n",
              "  vlrDocumento vlrLiquido  numMes  numAno vlrRestituicao  \n",
              "0          526        526      10    2021            NaN  \n",
              "1       999.96     999.96       3    2021            NaN  \n",
              "2       999.96     999.96       3    2021            NaN  \n",
              "3       999.96     999.96       3    2021            NaN  \n",
              "4       999.96     999.96       4    2021            NaN  "
            ]
          },
          "execution_count": 8,
          "metadata": {},
          "output_type": "execute_result"
        }
      ],
      "source": [
        "# verificando as primeira linhas do nosso novo dataset\n",
        "dfselect.head()"
      ]
    },
    {
      "cell_type": "markdown",
      "id": "ea2e167b-40e2-4038-b21a-68954b3f8799",
      "metadata": {
        "id": "ea2e167b-40e2-4038-b21a-68954b3f8799"
      },
      "source": [
        "Esses são os atributos que abordaremos até o final da análise."
      ]
    },
    {
      "cell_type": "markdown",
      "id": "aac10ef2-ff52-4326-b91c-414ace481df6",
      "metadata": {
        "id": "aac10ef2-ff52-4326-b91c-414ace481df6"
      },
      "source": [
        "## Preparação dos dados (Data Wrangling)"
      ]
    },
    {
      "cell_type": "markdown",
      "id": "16bafd73-3bd8-4786-aa96-5be3ea8d4917",
      "metadata": {
        "id": "16bafd73-3bd8-4786-aa96-5be3ea8d4917"
      },
      "source": [
        "Vamos verificar a estrutura dos dados novamente e corrigir o `Dtype` das variáveis, caso haja necessidade."
      ]
    },
    {
      "cell_type": "code",
      "execution_count": null,
      "id": "082a7303-1e80-4896-a169-c558ce3e56f7",
      "metadata": {
        "id": "082a7303-1e80-4896-a169-c558ce3e56f7",
        "outputId": "704430d7-d399-409c-a913-03a281f87b17"
      },
      "outputs": [
        {
          "name": "stdout",
          "output_type": "stream",
          "text": [
            "<class 'pandas.core.frame.DataFrame'>\n",
            "RangeIndex: 211335 entries, 0 to 211334\n",
            "Data columns (total 11 columns):\n",
            " #   Column             Non-Null Count   Dtype \n",
            "---  ------             --------------   ----- \n",
            " 0   txNomeParlamentar  211335 non-null  object\n",
            " 1   sgUF               210477 non-null  object\n",
            " 2   sgPartido          210477 non-null  object\n",
            " 3   txtDescricao       211335 non-null  object\n",
            " 4   txtFornecedor      211335 non-null  object\n",
            " 5   datEmissao         205200 non-null  object\n",
            " 6   vlrDocumento       211335 non-null  object\n",
            " 7   vlrLiquido         211335 non-null  object\n",
            " 8   numMes             211335 non-null  int64 \n",
            " 9   numAno             211335 non-null  int64 \n",
            " 10  vlrRestituicao     46 non-null      object\n",
            "dtypes: int64(2), object(9)\n",
            "memory usage: 17.7+ MB\n"
          ]
        }
      ],
      "source": [
        "dfselect.info()"
      ]
    },
    {
      "cell_type": "markdown",
      "id": "8d33d38e-43ec-458a-88e1-fa2d1231c617",
      "metadata": {
        "id": "8d33d38e-43ec-458a-88e1-fa2d1231c617"
      },
      "source": [
        "Aplicando a correção do `Dtype` das colunas datEmissao para data e vlrDocumento, vlrLiquido, vlrRestituicao para float."
      ]
    },
    {
      "cell_type": "markdown",
      "id": "b4605f44-48fe-45aa-ae4f-2791dce56a4b",
      "metadata": {
        "id": "b4605f44-48fe-45aa-ae4f-2791dce56a4b"
      },
      "source": [
        "### Tratamento dos Dtype"
      ]
    },
    {
      "cell_type": "markdown",
      "id": "f886b08d-e4f4-48a1-8c23-59ca447adfe7",
      "metadata": {
        "id": "f886b08d-e4f4-48a1-8c23-59ca447adfe7"
      },
      "source": [
        "Como vimos anteriormente, campos que deveriam estar em formato numérico estão no formato `objetc`. Isso significa que devemos fazer um tratamento no `dtype` da variável para transformar em formato `float`."
      ]
    },
    {
      "cell_type": "code",
      "execution_count": null,
      "id": "13467926-f1e2-4d7a-86e8-426103ed5264",
      "metadata": {
        "id": "13467926-f1e2-4d7a-86e8-426103ed5264"
      },
      "outputs": [],
      "source": [
        "# transformando os dados desses atributos em float\n",
        "dfselect[\"vlrDocumento\"] = dfselect[\"vlrDocumento\"].astype(float) \n",
        "dfselect[\"vlrLiquido\"] = dfselect[\"vlrLiquido\"].astype(float)\n",
        "dfselect[\"vlrRestituicao\"] = dfselect[\"vlrRestituicao\"].astype(float)"
      ]
    },
    {
      "cell_type": "code",
      "execution_count": null,
      "id": "0be9c72e-9093-4676-9539-e41af5ea7bc8",
      "metadata": {
        "id": "0be9c72e-9093-4676-9539-e41af5ea7bc8"
      },
      "outputs": [],
      "source": [
        "# transformando string-date em date\n",
        "dfselect[\"datEmissao\"] = pd.to_datetime(dfselect[\"datEmissao\"])"
      ]
    },
    {
      "cell_type": "code",
      "execution_count": null,
      "id": "e71e1248-ce2e-4718-b41d-9a2c22a5d08f",
      "metadata": {
        "id": "e71e1248-ce2e-4718-b41d-9a2c22a5d08f",
        "outputId": "a6a9ee07-99bb-4d5c-aba1-09e60ba8fa84"
      },
      "outputs": [
        {
          "name": "stdout",
          "output_type": "stream",
          "text": [
            "<class 'pandas.core.frame.DataFrame'>\n",
            "RangeIndex: 211335 entries, 0 to 211334\n",
            "Data columns (total 11 columns):\n",
            " #   Column             Non-Null Count   Dtype         \n",
            "---  ------             --------------   -----         \n",
            " 0   txNomeParlamentar  211335 non-null  object        \n",
            " 1   sgUF               210477 non-null  object        \n",
            " 2   sgPartido          210477 non-null  object        \n",
            " 3   txtDescricao       211335 non-null  object        \n",
            " 4   txtFornecedor      211335 non-null  object        \n",
            " 5   datEmissao         205200 non-null  datetime64[ns]\n",
            " 6   vlrDocumento       211335 non-null  float64       \n",
            " 7   vlrLiquido         211335 non-null  float64       \n",
            " 8   numMes             211335 non-null  int64         \n",
            " 9   numAno             211335 non-null  int64         \n",
            " 10  vlrRestituicao     46 non-null      float64       \n",
            "dtypes: datetime64[ns](1), float64(3), int64(2), object(5)\n",
            "memory usage: 17.7+ MB\n"
          ]
        }
      ],
      "source": [
        "dfselect.info()"
      ]
    },
    {
      "cell_type": "markdown",
      "id": "c04666a8-5bed-465a-9ee3-0251b3f0620a",
      "metadata": {
        "id": "c04666a8-5bed-465a-9ee3-0251b3f0620a"
      },
      "source": [
        "Agora os `Dtype` dos dados estão devidamente adequados ao seu atributo."
      ]
    },
    {
      "cell_type": "markdown",
      "id": "60fed3fe-c6a9-4470-815a-0656e9c2ab08",
      "metadata": {
        "id": "60fed3fe-c6a9-4470-815a-0656e9c2ab08"
      },
      "source": [
        "### Verificando a distribuição dos dados ausentes"
      ]
    },
    {
      "cell_type": "code",
      "execution_count": null,
      "id": "d2a5029c-2641-47a4-b747-55b49d3a254e",
      "metadata": {
        "id": "d2a5029c-2641-47a4-b747-55b49d3a254e",
        "outputId": "963708d7-2fb2-4853-ef5a-44f9c755f623"
      },
      "outputs": [
        {
          "data": {
            "text/plain": [
              "vlrRestituicao      0.9998\n",
              "datEmissao          0.0290\n",
              "sgUF                0.0041\n",
              "sgPartido           0.0041\n",
              "txNomeParlamentar   0.0000\n",
              "txtDescricao        0.0000\n",
              "txtFornecedor       0.0000\n",
              "vlrDocumento        0.0000\n",
              "vlrLiquido          0.0000\n",
              "numMes              0.0000\n",
              "numAno              0.0000\n",
              "dtype: float64"
            ]
          },
          "execution_count": 13,
          "metadata": {},
          "output_type": "execute_result"
        }
      ],
      "source": [
        "(dfselect.isnull().sum()/dfselect.shape[0]).sort_values(ascending=False)"
      ]
    },
    {
      "cell_type": "code",
      "execution_count": null,
      "id": "b9a30403-a640-4968-9c19-d947512477f8",
      "metadata": {
        "id": "b9a30403-a640-4968-9c19-d947512477f8",
        "outputId": "40bd29b3-9bb0-41d9-cd1d-c5bb53d71975"
      },
      "outputs": [
        {
          "data": {
            "text/plain": [
              "<AxesSubplot:>"
            ]
          },
          "execution_count": 14,
          "metadata": {},
          "output_type": "execute_result"
        },
        {
          "data": {
            "image/png": "[encoded data removed]",
            "text/plain": [
              "<Figure size 720x432 with 2 Axes>"
            ]
          },
          "metadata": {
            "needs_background": "light"
          },
          "output_type": "display_data"
        }
      ],
      "source": [
        "plt.figure( figsize=(10,6) )\n",
        "sns.heatmap(dfselect.isnull())"
      ]
    },
    {
      "cell_type": "markdown",
      "id": "b3aeb6b6-2533-4445-9951-f89210448bb2",
      "metadata": {
        "id": "b3aeb6b6-2533-4445-9951-f89210448bb2"
      },
      "source": [
        "Nessa etapa vamos ter que tomar algumas decisões.  \n",
        "1. O atributo `vlrRestituição` tem **99,9%** de valores nulos. Como não sabemos se essa informação está realmente correta, vamos optar por remover esse atributo na nossa análise.\n",
        "2. Atribuir uma categoria (não informado) para os campos `sgPartido` e `sgUF`."
      ]
    },
    {
      "cell_type": "code",
      "execution_count": null,
      "id": "63f1d53d-ddc8-4db8-b21c-800e09733965",
      "metadata": {
        "id": "63f1d53d-ddc8-4db8-b21c-800e09733965"
      },
      "outputs": [],
      "source": [
        "# removendo o atributo vlrRestituição\n",
        "dfselect.drop('vlrRestituicao', axis=1, inplace=True)"
      ]
    },
    {
      "cell_type": "code",
      "execution_count": null,
      "id": "e75aab8e-b4e7-4a20-82c7-56891fa21cbc",
      "metadata": {
        "id": "e75aab8e-b4e7-4a20-82c7-56891fa21cbc"
      },
      "outputs": [],
      "source": [
        "#Atribuir uma categoria (não informado) para os campos sgPartido e sgUF\n",
        "dfselect[\"sgPartido\"].fillna(\"NAO INFORMADO\", inplace=True)\n",
        "dfselect[\"sgUF\"].fillna(\"NAO INFORMADO\", inplace=True)"
      ]
    },
    {
      "cell_type": "code",
      "execution_count": null,
      "id": "479c196b-9c0b-493f-87ff-f46c20ab558d",
      "metadata": {
        "id": "479c196b-9c0b-493f-87ff-f46c20ab558d",
        "outputId": "fc1ec10d-7228-43b6-e262-f7a6be01189d"
      },
      "outputs": [
        {
          "name": "stdout",
          "output_type": "stream",
          "text": [
            "<class 'pandas.core.frame.DataFrame'>\n",
            "RangeIndex: 211335 entries, 0 to 211334\n",
            "Data columns (total 10 columns):\n",
            " #   Column             Non-Null Count   Dtype         \n",
            "---  ------             --------------   -----         \n",
            " 0   txNomeParlamentar  211335 non-null  object        \n",
            " 1   sgUF               211335 non-null  object        \n",
            " 2   sgPartido          211335 non-null  object        \n",
            " 3   txtDescricao       211335 non-null  object        \n",
            " 4   txtFornecedor      211335 non-null  object        \n",
            " 5   datEmissao         205200 non-null  datetime64[ns]\n",
            " 6   vlrDocumento       211335 non-null  float64       \n",
            " 7   vlrLiquido         211335 non-null  float64       \n",
            " 8   numMes             211335 non-null  int64         \n",
            " 9   numAno             211335 non-null  int64         \n",
            "dtypes: datetime64[ns](1), float64(2), int64(2), object(5)\n",
            "memory usage: 16.1+ MB\n"
          ]
        }
      ],
      "source": [
        "dfselect.info()"
      ]
    },
    {
      "cell_type": "code",
      "execution_count": null,
      "id": "586049c5-cb90-41ff-9079-6365257777bb",
      "metadata": {
        "id": "586049c5-cb90-41ff-9079-6365257777bb",
        "outputId": "153543e9-bf61-4e10-ca88-1b351d3adf86"
      },
      "outputs": [
        {
          "data": {
            "text/html": [
              "<div>\n",
              "<style scoped>\n",
              "    .dataframe tbody tr th:only-of-type {\n",
              "        vertical-align: middle;\n",
              "    }\n",
              "\n",
              "    .dataframe tbody tr th {\n",
              "        vertical-align: top;\n",
              "    }\n",
              "\n",
              "    .dataframe thead th {\n",
              "        text-align: right;\n",
              "    }\n",
              "</style>\n",
              "<table border=\"1\" class=\"dataframe\">\n",
              "  <thead>\n",
              "    <tr style=\"text-align: right;\">\n",
              "      <th></th>\n",
              "      <th>vlrDocumento</th>\n",
              "      <th>vlrLiquido</th>\n",
              "      <th>numMes</th>\n",
              "      <th>numAno</th>\n",
              "    </tr>\n",
              "  </thead>\n",
              "  <tbody>\n",
              "    <tr>\n",
              "      <th>count</th>\n",
              "      <td>211335.0000</td>\n",
              "      <td>211335.0000</td>\n",
              "      <td>211335.0000</td>\n",
              "      <td>211335.0000</td>\n",
              "    </tr>\n",
              "    <tr>\n",
              "      <th>mean</th>\n",
              "      <td>994.9233</td>\n",
              "      <td>989.0323</td>\n",
              "      <td>6.8037</td>\n",
              "      <td>2021.0000</td>\n",
              "    </tr>\n",
              "    <tr>\n",
              "      <th>std</th>\n",
              "      <td>2443.4079</td>\n",
              "      <td>2435.5647</td>\n",
              "      <td>3.3557</td>\n",
              "      <td>0.0000</td>\n",
              "    </tr>\n",
              "    <tr>\n",
              "      <th>min</th>\n",
              "      <td>-3968.0200</td>\n",
              "      <td>-6666.0000</td>\n",
              "      <td>1.0000</td>\n",
              "      <td>2021.0000</td>\n",
              "    </tr>\n",
              "    <tr>\n",
              "      <th>25%</th>\n",
              "      <td>94.0000</td>\n",
              "      <td>91.0000</td>\n",
              "      <td>4.0000</td>\n",
              "      <td>2021.0000</td>\n",
              "    </tr>\n",
              "    <tr>\n",
              "      <th>50%</th>\n",
              "      <td>254.5700</td>\n",
              "      <td>250.1600</td>\n",
              "      <td>7.0000</td>\n",
              "      <td>2021.0000</td>\n",
              "    </tr>\n",
              "    <tr>\n",
              "      <th>75%</th>\n",
              "      <td>977.2600</td>\n",
              "      <td>972.0950</td>\n",
              "      <td>10.0000</td>\n",
              "      <td>2021.0000</td>\n",
              "    </tr>\n",
              "    <tr>\n",
              "      <th>max</th>\n",
              "      <td>96600.0000</td>\n",
              "      <td>96600.0000</td>\n",
              "      <td>12.0000</td>\n",
              "      <td>2021.0000</td>\n",
              "    </tr>\n",
              "  </tbody>\n",
              "</table>\n",
              "</div>"
            ],
            "text/plain": [
              "       vlrDocumento  vlrLiquido      numMes      numAno\n",
              "count   211335.0000 211335.0000 211335.0000 211335.0000\n",
              "mean       994.9233    989.0323      6.8037   2021.0000\n",
              "std       2443.4079   2435.5647      3.3557      0.0000\n",
              "min      -3968.0200  -6666.0000      1.0000   2021.0000\n",
              "25%         94.0000     91.0000      4.0000   2021.0000\n",
              "50%        254.5700    250.1600      7.0000   2021.0000\n",
              "75%        977.2600    972.0950     10.0000   2021.0000\n",
              "max      96600.0000  96600.0000     12.0000   2021.0000"
            ]
          },
          "execution_count": 18,
          "metadata": {},
          "output_type": "execute_result"
        }
      ],
      "source": [
        "dfselect.describe()"
      ]
    },
    {
      "cell_type": "markdown",
      "id": "d4e8d98c-0e41-4a43-975e-1b50ab750ad6",
      "metadata": {
        "id": "d4e8d98c-0e41-4a43-975e-1b50ab750ad6"
      },
      "source": [
        "* Vamos remover os valores negativos da variável `vlrLiquido` que é a variável que vamos trabalhar. Não sabemos o que levou a esses resultados. \n",
        "* A mediana do valor líquido das despesas é R$ 250,16. \n",
        "* Outro resultado interessante é a diferença entre o valor máximo e o terceiro quartil. "
      ]
    },
    {
      "cell_type": "code",
      "execution_count": null,
      "id": "6b3886aa-8b64-4317-9939-5f0b81bc1dbe",
      "metadata": {
        "id": "6b3886aa-8b64-4317-9939-5f0b81bc1dbe"
      },
      "outputs": [],
      "source": [
        "dfselect = dfselect[dfselect[\"vlrLiquido\"]>= 0]"
      ]
    },
    {
      "cell_type": "markdown",
      "id": "9c221821-fd61-4618-8dcb-27001243145d",
      "metadata": {
        "id": "9c221821-fd61-4618-8dcb-27001243145d"
      },
      "source": [
        "Para finalizar, o nosso dataset final terá a seguinte estrutura."
      ]
    },
    {
      "cell_type": "code",
      "execution_count": null,
      "id": "96f3a925-ddd3-41f0-8ccc-fd1263b5cebc",
      "metadata": {
        "id": "96f3a925-ddd3-41f0-8ccc-fd1263b5cebc",
        "outputId": "23368190-400f-4c25-a98c-460760546b55"
      },
      "outputs": [
        {
          "data": {
            "text/html": [
              "<div>\n",
              "<style scoped>\n",
              "    .dataframe tbody tr th:only-of-type {\n",
              "        vertical-align: middle;\n",
              "    }\n",
              "\n",
              "    .dataframe tbody tr th {\n",
              "        vertical-align: top;\n",
              "    }\n",
              "\n",
              "    .dataframe thead th {\n",
              "        text-align: right;\n",
              "    }\n",
              "</style>\n",
              "<table border=\"1\" class=\"dataframe\">\n",
              "  <thead>\n",
              "    <tr style=\"text-align: right;\">\n",
              "      <th></th>\n",
              "      <th>txNomeParlamentar</th>\n",
              "      <th>sgUF</th>\n",
              "      <th>sgPartido</th>\n",
              "      <th>txtDescricao</th>\n",
              "      <th>txtFornecedor</th>\n",
              "      <th>datEmissao</th>\n",
              "      <th>vlrDocumento</th>\n",
              "      <th>vlrLiquido</th>\n",
              "      <th>numMes</th>\n",
              "      <th>numAno</th>\n",
              "    </tr>\n",
              "  </thead>\n",
              "  <tbody>\n",
              "    <tr>\n",
              "      <th>0</th>\n",
              "      <td>LIDERANÇA DO AVANTE</td>\n",
              "      <td>NAO INFORMADO</td>\n",
              "      <td>NAO INFORMADO</td>\n",
              "      <td>FORNECIMENTO DE ALIMENTAÇÃO DO PARLAMENTAR</td>\n",
              "      <td>BAR E RESTAURANTE TIA ZELIA LTDA ME</td>\n",
              "      <td>2021-10-27</td>\n",
              "      <td>526.0000</td>\n",
              "      <td>526.0000</td>\n",
              "      <td>10</td>\n",
              "      <td>2021</td>\n",
              "    </tr>\n",
              "    <tr>\n",
              "      <th>1</th>\n",
              "      <td>LIDERANÇA DO CIDADANIA</td>\n",
              "      <td>NAO INFORMADO</td>\n",
              "      <td>NAO INFORMADO</td>\n",
              "      <td>FORNECIMENTO DE ALIMENTAÇÃO DO PARLAMENTAR</td>\n",
              "      <td>ARTESANAL SERVICOS DE ALIMENTACAO E BUFFET EIRELI</td>\n",
              "      <td>2021-03-04</td>\n",
              "      <td>999.9600</td>\n",
              "      <td>999.9600</td>\n",
              "      <td>3</td>\n",
              "      <td>2021</td>\n",
              "    </tr>\n",
              "    <tr>\n",
              "      <th>2</th>\n",
              "      <td>LIDERANÇA DO CIDADANIA</td>\n",
              "      <td>NAO INFORMADO</td>\n",
              "      <td>NAO INFORMADO</td>\n",
              "      <td>FORNECIMENTO DE ALIMENTAÇÃO DO PARLAMENTAR</td>\n",
              "      <td>ARTESANAL SERVICOS DE ALIMENTACAO E BUFFET EIRELI</td>\n",
              "      <td>2021-03-11</td>\n",
              "      <td>999.9600</td>\n",
              "      <td>999.9600</td>\n",
              "      <td>3</td>\n",
              "      <td>2021</td>\n",
              "    </tr>\n",
              "    <tr>\n",
              "      <th>3</th>\n",
              "      <td>LIDERANÇA DO CIDADANIA</td>\n",
              "      <td>NAO INFORMADO</td>\n",
              "      <td>NAO INFORMADO</td>\n",
              "      <td>FORNECIMENTO DE ALIMENTAÇÃO DO PARLAMENTAR</td>\n",
              "      <td>ARTESANAL SERVICOS DE ALIMENTACAO E BUFFET EIRELI</td>\n",
              "      <td>2021-03-17</td>\n",
              "      <td>999.9600</td>\n",
              "      <td>999.9600</td>\n",
              "      <td>3</td>\n",
              "      <td>2021</td>\n",
              "    </tr>\n",
              "    <tr>\n",
              "      <th>4</th>\n",
              "      <td>LIDERANÇA DO CIDADANIA</td>\n",
              "      <td>NAO INFORMADO</td>\n",
              "      <td>NAO INFORMADO</td>\n",
              "      <td>FORNECIMENTO DE ALIMENTAÇÃO DO PARLAMENTAR</td>\n",
              "      <td>ARTESANAL SERVICOS DE ALIMENTACAO E BUFFET EIRELI</td>\n",
              "      <td>2021-04-12</td>\n",
              "      <td>999.9600</td>\n",
              "      <td>999.9600</td>\n",
              "      <td>4</td>\n",
              "      <td>2021</td>\n",
              "    </tr>\n",
              "  </tbody>\n",
              "</table>\n",
              "</div>"
            ],
            "text/plain": [
              "        txNomeParlamentar           sgUF      sgPartido  \\\n",
              "0     LIDERANÇA DO AVANTE  NAO INFORMADO  NAO INFORMADO   \n",
              "1  LIDERANÇA DO CIDADANIA  NAO INFORMADO  NAO INFORMADO   \n",
              "2  LIDERANÇA DO CIDADANIA  NAO INFORMADO  NAO INFORMADO   \n",
              "3  LIDERANÇA DO CIDADANIA  NAO INFORMADO  NAO INFORMADO   \n",
              "4  LIDERANÇA DO CIDADANIA  NAO INFORMADO  NAO INFORMADO   \n",
              "\n",
              "                                 txtDescricao  \\\n",
              "0  FORNECIMENTO DE ALIMENTAÇÃO DO PARLAMENTAR   \n",
              "1  FORNECIMENTO DE ALIMENTAÇÃO DO PARLAMENTAR   \n",
              "2  FORNECIMENTO DE ALIMENTAÇÃO DO PARLAMENTAR   \n",
              "3  FORNECIMENTO DE ALIMENTAÇÃO DO PARLAMENTAR   \n",
              "4  FORNECIMENTO DE ALIMENTAÇÃO DO PARLAMENTAR   \n",
              "\n",
              "                                       txtFornecedor datEmissao  vlrDocumento  \\\n",
              "0                BAR E RESTAURANTE TIA ZELIA LTDA ME 2021-10-27      526.0000   \n",
              "1  ARTESANAL SERVICOS DE ALIMENTACAO E BUFFET EIRELI 2021-03-04      999.9600   \n",
              "2  ARTESANAL SERVICOS DE ALIMENTACAO E BUFFET EIRELI 2021-03-11      999.9600   \n",
              "3  ARTESANAL SERVICOS DE ALIMENTACAO E BUFFET EIRELI 2021-03-17      999.9600   \n",
              "4  ARTESANAL SERVICOS DE ALIMENTACAO E BUFFET EIRELI 2021-04-12      999.9600   \n",
              "\n",
              "   vlrLiquido  numMes  numAno  \n",
              "0    526.0000      10    2021  \n",
              "1    999.9600       3    2021  \n",
              "2    999.9600       3    2021  \n",
              "3    999.9600       3    2021  \n",
              "4    999.9600       4    2021  "
            ]
          },
          "execution_count": 20,
          "metadata": {},
          "output_type": "execute_result"
        }
      ],
      "source": [
        "dfselect.head()"
      ]
    },
    {
      "cell_type": "markdown",
      "id": "2df16d53-ad35-44be-ba97-c02068635b42",
      "metadata": {
        "id": "2df16d53-ad35-44be-ba97-c02068635b42"
      },
      "source": [
        "# Análise Exploratória"
      ]
    },
    {
      "cell_type": "markdown",
      "id": "a46e4053-6a98-4c91-9aa0-52396ef98d30",
      "metadata": {
        "id": "a46e4053-6a98-4c91-9aa0-52396ef98d30"
      },
      "source": [
        "> Depois de uma preparação e tratamento nos dados do nosso dataset, podemos partir para os objetivos desse projeto e começar a explorar os dados."
      ]
    },
    {
      "cell_type": "markdown",
      "id": "37d8a7bf-f16f-4121-a2cd-00cf88f06742",
      "metadata": {
        "id": "37d8a7bf-f16f-4121-a2cd-00cf88f06742"
      },
      "source": [
        "O objetivo dessa etapa e das que estão por vim é analisar e extrair informações sobre as **despesas pela cota de exercício da atividade parlamentar** com base no nosso dataset."
      ]
    },
    {
      "cell_type": "markdown",
      "id": "634632ef-6680-4071-976d-20e5dfc796d9",
      "metadata": {
        "id": "634632ef-6680-4071-976d-20e5dfc796d9"
      },
      "source": [
        "### Quais são os partidos cobertos pela cota de exercício parlamentar?"
      ]
    },
    {
      "cell_type": "code",
      "execution_count": null,
      "id": "9a036e73-095f-488b-9b95-f190271f4b4a",
      "metadata": {
        "id": "9a036e73-095f-488b-9b95-f190271f4b4a"
      },
      "outputs": [],
      "source": [
        "dfPartido = dfselect.groupby('sgPartido')['vlrDocumento', 'vlrLiquido'].sum().sort_values(by=['vlrDocumento', 'vlrLiquido'], ascending=False).reset_index()\n",
        "# numero de parlamentares distintos por partido\n",
        "dfParlamentar = dfselect.groupby('sgPartido')['txNomeParlamentar'].nunique().sort_values(ascending=False).reset_index()\n",
        "\n",
        "# criando novo dataframe resumido por partidos e renomeando as colunas\n",
        "dfPatParl = dfPartido.merge(dfParlamentar, on='sgPartido').rename({'sgPartido': 'Partido', 'vlrDocumento': 'Valor Documento' ,\\\n",
        "                                                                   'vlrLiquido': 'Valor Líquido', 'txNomeParlamentar': 'Qtde Parlamentar'}, axis = 1)\n",
        "# criando duas novas colunas\n",
        "dfPatParl['Perc VlrLíquido'] = (dfPatParl['Valor Líquido']/dfPatParl['Valor Líquido'].sum()).round(2)*100\n",
        "dfPatParl['Media Parlamentar'] = (dfPatParl['Valor Líquido']/dfPatParl['Qtde Parlamentar']).round(2)\n",
        "#\n",
        "#dfPatParl.nlargest(5, 'Valor Líquido')"
      ]
    },
    {
      "cell_type": "code",
      "execution_count": null,
      "id": "12cc641b-bc39-487f-889c-dc25ec0ceecd",
      "metadata": {
        "id": "12cc641b-bc39-487f-889c-dc25ec0ceecd",
        "outputId": "cf2bc305-01bf-469d-fe37-9b6dbe798ae8"
      },
      "outputs": [
        {
          "name": "stdout",
          "output_type": "stream",
          "text": [
            "Os partidos cobertos pela cota de exercício da atividades parlamentar em 2021 foram: ['NAO INFORMADO' 'UNIÃO' 'PP' 'PV' 'PSB' 'PT' 'REPUBLICANOS' 'PDT'\n",
            " 'CIDADANIA' 'PSOL' 'MDB' 'PCdoB' 'PSD' 'PL' 'PROS' 'PSDB' 'PSC' 'S.PART.'\n",
            " 'PODE' 'PTB' 'SOLIDARIEDADE' 'NOVO' 'REDE' 'AVANTE' 'PATRIOTA']\n"
          ]
        }
      ],
      "source": [
        "# Mostrar os partidos envolvidos\n",
        "print(f'Os partidos cobertos pela cota de exercício da atividades parlamentar em 2021 foram: {dfselect[\"sgPartido\"].unique()}')"
      ]
    },
    {
      "cell_type": "code",
      "execution_count": null,
      "id": "3dafac04-a6a1-4db3-a7ea-17d924e70d5c",
      "metadata": {
        "id": "3dafac04-a6a1-4db3-a7ea-17d924e70d5c",
        "outputId": "1a9bc58e-f210-47f9-9a10-0eb1c498dac4"
      },
      "outputs": [
        {
          "name": "stdout",
          "output_type": "stream",
          "text": [
            "Ao total foram: 25 partidos envolvidos\n"
          ]
        }
      ],
      "source": [
        "# total partidos envolvidos\n",
        "print(f'Ao total foram: {len(dfselect[\"sgPartido\"].unique())} partidos envolvidos')"
      ]
    },
    {
      "cell_type": "markdown",
      "id": "0b33f6a7-a5a4-4b05-afe2-0b639c6c154f",
      "metadata": {
        "id": "0b33f6a7-a5a4-4b05-afe2-0b639c6c154f"
      },
      "source": [
        "Lembrando que temos os `NÃO INFORMADOS` e os sem partidos (`S.PART.`) na conta."
      ]
    },
    {
      "cell_type": "markdown",
      "id": "70d00e66-8086-43ce-8c4d-3bfa36366a97",
      "metadata": {
        "id": "70d00e66-8086-43ce-8c4d-3bfa36366a97"
      },
      "source": [
        "### Qual foi o custo das despesas líquidas no período?"
      ]
    },
    {
      "cell_type": "code",
      "execution_count": null,
      "id": "be5f1b7e-d548-4404-9dbd-32611dbe6160",
      "metadata": {
        "id": "be5f1b7e-d548-4404-9dbd-32611dbe6160",
        "outputId": "8eab92e0-bdbb-4dd8-fdc2-f6a7a74bf38f"
      },
      "outputs": [
        {
          "name": "stdout",
          "output_type": "stream",
          "text": [
            " Valor líquido total das despesas no exercício: 210696388.06\n"
          ]
        }
      ],
      "source": [
        "print(f' Valor líquido total das despesas no exercício: {dfPatParl[\"Valor Líquido\"].sum().round(2)}')"
      ]
    },
    {
      "cell_type": "code",
      "execution_count": null,
      "id": "f4a031e1-3e43-4c73-9c2d-738feb2fdcc0",
      "metadata": {
        "id": "f4a031e1-3e43-4c73-9c2d-738feb2fdcc0",
        "outputId": "f55d7cca-e135-43c5-af96-d2c016a8c1e8"
      },
      "outputs": [
        {
          "data": {
            "image/png": "[encoded data removed]",
            "text/plain": [
              "<Figure size 720x432 with 1 Axes>"
            ]
          },
          "metadata": {
            "needs_background": "light"
          },
          "output_type": "display_data"
        }
      ],
      "source": [
        "# despesas líquidas mensal\n",
        "dfDespMes = dfselect.groupby('numMes')['vlrLiquido'].sum().reset_index()\n",
        "\n",
        "sns.catplot(x=\"numMes\", y=\"vlrLiquido\", kind='bar', palette=(\"crest\"), data=dfDespMes)\n",
        "plt.xlabel(\"Meses de 2021\")\n",
        "plt.ylabel(\"Valor Líquido R$ (milhões x 10)\")\n",
        "plt.title(\"Valor das despesas líquidas mensal\")\n",
        "plt.ylim(0, 22000000) # definir limite do eixo\n",
        "plt.yticks(range(0, 30000000, 5000000)) # alterar escala do eixo\n",
        "plt.gcf().set_size_inches(10, 6)"
      ]
    },
    {
      "cell_type": "markdown",
      "id": "57e2a11b-acb2-43a0-9952-46428d97af62",
      "metadata": {
        "id": "57e2a11b-acb2-43a0-9952-46428d97af62"
      },
      "source": [
        "Gastos com despesas de cotas parlamentares por mês."
      ]
    },
    {
      "cell_type": "markdown",
      "id": "b9075505-596b-4b1f-919b-e65568e883c4",
      "metadata": {
        "id": "b9075505-596b-4b1f-919b-e65568e883c4"
      },
      "source": [
        "* O custo total no período foi de R\\$ 210.696.388,06 com cotas parlamentares.  \n",
        "* O segundo semestre foi o período de maior gasto.  \n",
        "* A média de gasto mensal foi de R\\$ 17.55.8032,33.  \n",
        "* Outubro foi o mês com o maior gasto, ultrapassando os R\\$ 20.000.000 no mês. "
      ]
    },
    {
      "cell_type": "markdown",
      "id": "12d34523-cc02-4119-8733-ac8bc134ec5e",
      "metadata": {
        "id": "12d34523-cc02-4119-8733-ac8bc134ec5e"
      },
      "source": [
        "### Qual foi o custo de cada partido nas despesas do exercício de 2021?"
      ]
    },
    {
      "cell_type": "code",
      "execution_count": null,
      "id": "dee01081-f5d5-4a04-90d5-24567157886f",
      "metadata": {
        "id": "dee01081-f5d5-4a04-90d5-24567157886f",
        "outputId": "4267bebc-e4fb-47dc-e140-c46105a02dd1"
      },
      "outputs": [
        {
          "data": {
            "image/png": "[encoded data removed]",
            "text/plain": [
              "<Figure size 864x576 with 1 Axes>"
            ]
          },
          "metadata": {
            "needs_background": "light"
          },
          "output_type": "display_data"
        }
      ],
      "source": [
        "# Ordenando a tabela\n",
        "dfOrder = dfPatParl.sort_values(by=['Valor Líquido'], ascending=True)\n",
        "\n",
        "plt.figure( figsize=(12,8) )\n",
        "plt.barh(y=dfOrder[\"Partido\"], width=dfOrder[\"Valor Líquido\"])\n",
        "plt.xlabel(\"(R$)\")\n",
        "plt.ylabel(\"Sigla do Partido\")\n",
        "plt.title(\"Despesa Líquida por Partido - R$\")\n",
        "plt.show()"
      ]
    },
    {
      "cell_type": "markdown",
      "id": "8fe57122-21ee-43e5-be40-a1b0f637e44e",
      "metadata": {
        "id": "8fe57122-21ee-43e5-be40-a1b0f637e44e"
      },
      "source": [
        "O Partido Liberal **(PL)** registrou o maior valor líquido com despesas de cotas parlamentares, seguido pelo Partido dos Trabalhadores **(PT)** e o Partido Progressista **(PP)**.  Os 3 partidos que registraram menos despesas com cota parlamentar foram **REDE**, **NOVO** e Sem Partidos **(S.PART)**"
      ]
    },
    {
      "cell_type": "markdown",
      "id": "ff5f88c5-d4ad-4e15-a575-d5585212a2ad",
      "metadata": {
        "id": "ff5f88c5-d4ad-4e15-a575-d5585212a2ad"
      },
      "source": [
        "Aqui temos os 5 partidos com **maior valor** de despesa da cota no exercício de 2021."
      ]
    },
    {
      "cell_type": "code",
      "execution_count": null,
      "id": "1788c4ff-ad93-4afe-9798-fbc85801f66a",
      "metadata": {
        "id": "1788c4ff-ad93-4afe-9798-fbc85801f66a",
        "outputId": "50f9aa73-c517-4307-ea1b-69112a423d6f"
      },
      "outputs": [
        {
          "data": {
            "text/html": [
              "<div>\n",
              "<style scoped>\n",
              "    .dataframe tbody tr th:only-of-type {\n",
              "        vertical-align: middle;\n",
              "    }\n",
              "\n",
              "    .dataframe tbody tr th {\n",
              "        vertical-align: top;\n",
              "    }\n",
              "\n",
              "    .dataframe thead th {\n",
              "        text-align: right;\n",
              "    }\n",
              "</style>\n",
              "<table border=\"1\" class=\"dataframe\">\n",
              "  <thead>\n",
              "    <tr style=\"text-align: right;\">\n",
              "      <th></th>\n",
              "      <th>Partido</th>\n",
              "      <th>Valor Documento</th>\n",
              "      <th>Valor Líquido</th>\n",
              "      <th>Qtde Parlamentar</th>\n",
              "      <th>Perc VlrLíquido</th>\n",
              "      <th>Media Parlamentar</th>\n",
              "    </tr>\n",
              "  </thead>\n",
              "  <tbody>\n",
              "    <tr>\n",
              "      <th>0</th>\n",
              "      <td>PL</td>\n",
              "      <td>29389584.2600</td>\n",
              "      <td>29246137.7400</td>\n",
              "      <td>82</td>\n",
              "      <td>14.0000</td>\n",
              "      <td>356660.2200</td>\n",
              "    </tr>\n",
              "    <tr>\n",
              "      <th>1</th>\n",
              "      <td>PT</td>\n",
              "      <td>24035804.2700</td>\n",
              "      <td>23934354.5200</td>\n",
              "      <td>58</td>\n",
              "      <td>11.0000</td>\n",
              "      <td>412661.2800</td>\n",
              "    </tr>\n",
              "    <tr>\n",
              "      <th>2</th>\n",
              "      <td>PP</td>\n",
              "      <td>23732691.8900</td>\n",
              "      <td>23555512.7600</td>\n",
              "      <td>59</td>\n",
              "      <td>11.0000</td>\n",
              "      <td>399245.9800</td>\n",
              "    </tr>\n",
              "    <tr>\n",
              "      <th>3</th>\n",
              "      <td>UNIÃO</td>\n",
              "      <td>22750300.6500</td>\n",
              "      <td>22630888.8900</td>\n",
              "      <td>55</td>\n",
              "      <td>11.0000</td>\n",
              "      <td>411470.7100</td>\n",
              "    </tr>\n",
              "    <tr>\n",
              "      <th>4</th>\n",
              "      <td>REPUBLICANOS</td>\n",
              "      <td>19877822.6500</td>\n",
              "      <td>19737084.8000</td>\n",
              "      <td>49</td>\n",
              "      <td>9.0000</td>\n",
              "      <td>402797.6500</td>\n",
              "    </tr>\n",
              "  </tbody>\n",
              "</table>\n",
              "</div>"
            ],
            "text/plain": [
              "        Partido  Valor Documento  Valor Líquido  Qtde Parlamentar  \\\n",
              "0            PL    29389584.2600  29246137.7400                82   \n",
              "1            PT    24035804.2700  23934354.5200                58   \n",
              "2            PP    23732691.8900  23555512.7600                59   \n",
              "3         UNIÃO    22750300.6500  22630888.8900                55   \n",
              "4  REPUBLICANOS    19877822.6500  19737084.8000                49   \n",
              "\n",
              "   Perc VlrLíquido  Media Parlamentar  \n",
              "0          14.0000        356660.2200  \n",
              "1          11.0000        412661.2800  \n",
              "2          11.0000        399245.9800  \n",
              "3          11.0000        411470.7100  \n",
              "4           9.0000        402797.6500  "
            ]
          },
          "execution_count": 50,
          "metadata": {},
          "output_type": "execute_result"
        }
      ],
      "source": [
        "dfPatParl.nlargest(5, 'Valor Líquido')"
      ]
    },
    {
      "cell_type": "markdown",
      "id": "d74d6933-cdad-40af-b14f-d47cecfefd00",
      "metadata": {
        "id": "d74d6933-cdad-40af-b14f-d47cecfefd00"
      },
      "source": [
        "Aqui temos os 5 partidos com **menor valor** de despesa da cota no exercício de 2021."
      ]
    },
    {
      "cell_type": "code",
      "execution_count": null,
      "id": "6774ef43-e180-48fc-816e-05a3801c1b3a",
      "metadata": {
        "id": "6774ef43-e180-48fc-816e-05a3801c1b3a",
        "outputId": "d830da6d-a4d0-4aa9-944f-0f20ce028c22"
      },
      "outputs": [
        {
          "data": {
            "text/html": [
              "<div>\n",
              "<style scoped>\n",
              "    .dataframe tbody tr th:only-of-type {\n",
              "        vertical-align: middle;\n",
              "    }\n",
              "\n",
              "    .dataframe tbody tr th {\n",
              "        vertical-align: top;\n",
              "    }\n",
              "\n",
              "    .dataframe thead th {\n",
              "        text-align: right;\n",
              "    }\n",
              "</style>\n",
              "<table border=\"1\" class=\"dataframe\">\n",
              "  <thead>\n",
              "    <tr style=\"text-align: right;\">\n",
              "      <th></th>\n",
              "      <th>Partido</th>\n",
              "      <th>Valor Documento</th>\n",
              "      <th>Valor Líquido</th>\n",
              "      <th>Qtde Parlamentar</th>\n",
              "      <th>Perc VlrLíquido</th>\n",
              "      <th>Media Parlamentar</th>\n",
              "    </tr>\n",
              "  </thead>\n",
              "  <tbody>\n",
              "    <tr>\n",
              "      <th>24</th>\n",
              "      <td>S.PART.</td>\n",
              "      <td>321304.9500</td>\n",
              "      <td>320898.9900</td>\n",
              "      <td>1</td>\n",
              "      <td>0.0000</td>\n",
              "      <td>320898.9900</td>\n",
              "    </tr>\n",
              "    <tr>\n",
              "      <th>23</th>\n",
              "      <td>NOVO</td>\n",
              "      <td>860248.0100</td>\n",
              "      <td>833851.9600</td>\n",
              "      <td>8</td>\n",
              "      <td>0.0000</td>\n",
              "      <td>104231.5000</td>\n",
              "    </tr>\n",
              "    <tr>\n",
              "      <th>22</th>\n",
              "      <td>REDE</td>\n",
              "      <td>863697.6600</td>\n",
              "      <td>862863.8800</td>\n",
              "      <td>2</td>\n",
              "      <td>0.0000</td>\n",
              "      <td>431431.9400</td>\n",
              "    </tr>\n",
              "    <tr>\n",
              "      <th>21</th>\n",
              "      <td>NAO INFORMADO</td>\n",
              "      <td>933403.2900</td>\n",
              "      <td>928964.8200</td>\n",
              "      <td>18</td>\n",
              "      <td>0.0000</td>\n",
              "      <td>51609.1600</td>\n",
              "    </tr>\n",
              "    <tr>\n",
              "      <th>20</th>\n",
              "      <td>PTB</td>\n",
              "      <td>1466655.1600</td>\n",
              "      <td>1454306.8300</td>\n",
              "      <td>4</td>\n",
              "      <td>1.0000</td>\n",
              "      <td>363576.7100</td>\n",
              "    </tr>\n",
              "  </tbody>\n",
              "</table>\n",
              "</div>"
            ],
            "text/plain": [
              "          Partido  Valor Documento  Valor Líquido  Qtde Parlamentar  \\\n",
              "24        S.PART.      321304.9500    320898.9900                 1   \n",
              "23           NOVO      860248.0100    833851.9600                 8   \n",
              "22           REDE      863697.6600    862863.8800                 2   \n",
              "21  NAO INFORMADO      933403.2900    928964.8200                18   \n",
              "20            PTB     1466655.1600   1454306.8300                 4   \n",
              "\n",
              "    Perc VlrLíquido  Media Parlamentar  \n",
              "24           0.0000        320898.9900  \n",
              "23           0.0000        104231.5000  \n",
              "22           0.0000        431431.9400  \n",
              "21           0.0000         51609.1600  \n",
              "20           1.0000        363576.7100  "
            ]
          },
          "execution_count": 51,
          "metadata": {},
          "output_type": "execute_result"
        }
      ],
      "source": [
        "dfPatParl.nsmallest(5, 'Valor Líquido')"
      ]
    },
    {
      "cell_type": "markdown",
      "id": "9790afc3-ee60-43b8-a1c3-c4d442af9103",
      "metadata": {
        "id": "9790afc3-ee60-43b8-a1c3-c4d442af9103"
      },
      "source": [
        "Como podemos ver, alguns partidos possuem mais parlamentares que outros, logo, é normal que partidos maiores tenham custos maiores e partidos menores custos menores. Uma forma de avaliar de maneira justa é criar uma nova medida que padronize essa relação (vamos chamar essa nova medida de média parlamentar).  \n",
        "\n",
        "Para se ter uma ideia da dimensão, temos o gráfico de dispersão abaixo:"
      ]
    },
    {
      "cell_type": "code",
      "execution_count": null,
      "id": "ee4e68af-8556-4c7a-b25b-0a43cb7eb766",
      "metadata": {
        "id": "ee4e68af-8556-4c7a-b25b-0a43cb7eb766",
        "outputId": "897f4952-5226-4217-daf5-1885ed7a8474"
      },
      "outputs": [
        {
          "data": {
            "image/png": "[encoded data removed]",
            "text/plain": [
              "<Figure size 864x576 with 1 Axes>"
            ]
          },
          "metadata": {
            "needs_background": "light"
          },
          "output_type": "display_data"
        }
      ],
      "source": [
        "# Pontos do Gráfico na côr Preta (c = 'k')\n",
        "plt.figure( figsize=(12,8) )\n",
        "plt.scatter(dfPatParl['Valor Líquido'], dfPatParl['Qtde Parlamentar'], c='k')\n",
        "plt.title(\"Relação entre o número de parlamentares e as despesas por partido\")\n",
        "plt.xlabel(\"Valor do documento - R$\")\n",
        "plt.ylabel(\"Parlamentares por partidos\")\n",
        "plt.show()"
      ]
    },
    {
      "cell_type": "markdown",
      "id": "0dd9996b-be7b-4e0c-a36f-4a6c042ab4cb",
      "metadata": {
        "id": "0dd9996b-be7b-4e0c-a36f-4a6c042ab4cb"
      },
      "source": [
        "Podemos ver uma relação linear positiva."
      ]
    },
    {
      "cell_type": "markdown",
      "id": "ee574950-e9ff-42ec-bf4f-fbe6c28254d6",
      "metadata": {
        "id": "ee574950-e9ff-42ec-bf4f-fbe6c28254d6"
      },
      "source": [
        "Então, vamos plotar o gráfico da média do valor do documento pelo número de parlamentares de cada partido. "
      ]
    },
    {
      "cell_type": "code",
      "execution_count": null,
      "id": "4a17c293-2fc1-4ac3-83ad-7a3395a35ddb",
      "metadata": {
        "id": "4a17c293-2fc1-4ac3-83ad-7a3395a35ddb",
        "outputId": "408e54bc-2e5d-41e2-bfc4-8bce9e7bb6a2"
      },
      "outputs": [
        {
          "data": {
            "image/png": "[encoded data removed]",
            "text/plain": [
              "<Figure size 864x576 with 1 Axes>"
            ]
          },
          "metadata": {
            "needs_background": "light"
          },
          "output_type": "display_data"
        }
      ],
      "source": [
        "# Ordenando a tabela\n",
        "dfOrderPadron = dfPatParl.sort_values(by=['Media Parlamentar'], ascending=True)\n",
        "# Criando barra horizontal\n",
        "plt.figure( figsize=(12,8) )\n",
        "plt.barh(y=dfOrderPadron[\"Partido\"], width=dfOrderPadron[\"Media Parlamentar\"])\n",
        "plt.xlabel(\"(R$)\")\n",
        "plt.ylabel(\"Sigla do Partido\")\n",
        "plt.title(\"Média Parlamentar por Partido - R$\")\n",
        "#\n",
        "plt.show()"
      ]
    },
    {
      "cell_type": "markdown",
      "id": "67cd4f30-4171-48d2-8730-ae994e64f2d8",
      "metadata": {
        "id": "67cd4f30-4171-48d2-8730-ae994e64f2d8"
      },
      "source": [
        "Podemos perceber que agora o cenário mudou no topo. O partido REDE, que estava entre os 3 com menor valor de despesa líquida, agora está no top 5. O partido PL, que ocupava o topo nas despesas líquidas, agora está abaixo da mediana das despesas por parlamentar.\n",
        "\n",
        "> Lembrando que nessa nova medida temos os valores líquidos das despesas dividido pelo número de parlamentares do seu partido.  \n"
      ]
    },
    {
      "cell_type": "markdown",
      "id": "4e567e23-9223-4870-a96e-7c8a4d31bd9d",
      "metadata": {
        "id": "4e567e23-9223-4870-a96e-7c8a4d31bd9d"
      },
      "source": [
        "### Quais foram as principais despesas das cotas parlamentares?"
      ]
    },
    {
      "cell_type": "markdown",
      "id": "eae6da9b-3161-452d-b17f-d7d20c6b992d",
      "metadata": {
        "id": "eae6da9b-3161-452d-b17f-d7d20c6b992d"
      },
      "source": [
        "Agora vamos analisar o tipo da despesa."
      ]
    },
    {
      "cell_type": "code",
      "execution_count": null,
      "id": "0d70ab4f-3533-4a38-81e6-020d23a71a27",
      "metadata": {
        "id": "0d70ab4f-3533-4a38-81e6-020d23a71a27",
        "outputId": "a91b2219-5527-45eb-c6ed-1e4abff576b2"
      },
      "outputs": [
        {
          "data": {
            "image/png": "[encoded data removed]",
            "text/plain": [
              "<Figure size 864x576 with 1 Axes>"
            ]
          },
          "metadata": {
            "needs_background": "light"
          },
          "output_type": "display_data"
        }
      ],
      "source": [
        "dfDespesa = dfselect.groupby('txtDescricao')['vlrLiquido'].sum().sort_values(ascending=False).reset_index()\n",
        "# Ordenando a tabela\n",
        "dfDespesa = dfDespesa.sort_values(by=['vlrLiquido'], ascending=True)\n",
        "#from matplotlib.ticker import ScalarFormatter\n",
        "#matplotlib.rcParams[\"axes.formatter.useoffset\"] = False\n",
        "\n",
        "# Criando barra horizontal\n",
        "plt.figure(figsize=(12,8))\n",
        "plt.barh(y=dfDespesa[\"txtDescricao\"], width=dfDespesa[\"vlrLiquido\"])\n",
        "plt.title(\"Custo das despesas\")\n",
        "plt.xlabel(\"R$ (milhões x 10)\")\n",
        "plt.ylabel(\"Descrição da Despesas\")\n",
        "#\n",
        "plt.show()"
      ]
    },
    {
      "cell_type": "markdown",
      "id": "0687b859-1291-4042-a05c-c40f15ec3ed0",
      "metadata": {
        "id": "0687b859-1291-4042-a05c-c40f15ec3ed0"
      },
      "source": [
        "A principal despesa com cotas parlamentares é relacionada a **DIVULGAÇÃO DE ATIVIDADES PARLAMENTAR**, com um total de mais de R\\$60.000.000 no período, seguido por passagens aéreas e locação ou fretamento de veículos automotores."
      ]
    },
    {
      "cell_type": "markdown",
      "id": "9e80b459-d6bf-4f29-8caa-910c1eaf1496",
      "metadata": {
        "id": "9e80b459-d6bf-4f29-8caa-910c1eaf1496"
      },
      "source": [
        "### Conclusões"
      ]
    },
    {
      "cell_type": "markdown",
      "id": "1d127e73-9e8d-4635-ab15-2955b892d437",
      "metadata": {
        "id": "1d127e73-9e8d-4635-ab15-2955b892d437"
      },
      "source": [
        "O que se pode concluir é que o Brasil possui uma despesa muito alta com exercício de cotas parlamentares e que elas estão claramente ligadas a quantidade de cadeiras que o partido ocupa na câmara de deputados.\n",
        "\n",
        "Na análise foram identificados os seguintes pontos:\n",
        "* Que o segundo semestre é o semestre com maior despesa, principalmente no mês de outubro.  \n",
        "* No acumulado, os cinco partidos com maior despesas são: PL, PT, PP, UNIÃO e REPUBLICANOS (Representando 56% das despesas).  \n",
        "* Usando o total das despesas pelo número de parlamentares, os 5 partidos com maior custo por parlamentar são: PROS, PV, REDE, PATRIOTA e PDT.  \n",
        "* A principal despesa na atividade parlamentar é referente a DIVULGAÇÃO DE ATIVIDADES PARLAMENTAR. \n",
        "\n",
        "Lembra-se que essa análise foi baseada em uma base de dados disponibilizada pela Câmera dos Deputados do período de 2021."
      ]
    },
    {
      "cell_type": "code",
      "execution_count": null,
      "id": "9e097810-f0c8-4af6-9200-3439bdc9c883",
      "metadata": {
        "id": "9e097810-f0c8-4af6-9200-3439bdc9c883"
      },
      "outputs": [],
      "source": [
        ""
      ]
    }
  ],
  "metadata": {
    "kernelspec": {
      "display_name": "Python 3",
      "language": "python",
      "name": "python3"
    },
    "language_info": {
      "codemirror_mode": {
        "name": "ipython",
        "version": 3
      },
      "file_extension": ".py",
      "mimetype": "text/x-python",
      "name": "python",
      "nbconvert_exporter": "python",
      "pygments_lexer": "ipython3",
      "version": "3.8.8"
    },
    "colab": {
      "name": "CotaParlamentar.ipynb",
      "provenance": [],
      "include_colab_link": true
    }
  },
  "nbformat": 4,
  "nbformat_minor": 5
}